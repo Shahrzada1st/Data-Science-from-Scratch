{
 "cells": [
  {
   "cell_type": "markdown",
   "metadata": {},
   "source": [
    "#### Feature scaling\n",
    "\n",
    "I. MinMaxScaler\n",
    "\n",
    "In some cases it is useful to think of your data in terms of the percent they are as compared to the maximum value. In these cases, you will want to use MinMaxScaler.\n",
    "\n",
    "II. StandardScaler\n",
    "\n",
    "Another very popular type of scaling is to scale data so that it has mean 0 and variance 1. In these cases, you will want to use StandardScaler.\n",
    "\n",
    "It is probably more appropriate with this data to use StandardScaler. However, to get practice with feature scaling methods in python, we will perform both."
   ]
  },
  {
   "cell_type": "code",
   "execution_count": null,
   "metadata": {},
   "outputs": [],
   "source": []
  }
 ],
 "metadata": {
  "kernelspec": {
   "display_name": "Python 3",
   "language": "python",
   "name": "python3"
  },
  "language_info": {
   "codemirror_mode": {
    "name": "ipython",
    "version": 3
   },
   "file_extension": ".py",
   "mimetype": "text/x-python",
   "name": "python",
   "nbconvert_exporter": "python",
   "pygments_lexer": "ipython3",
   "version": "3.7.4"
  }
 },
 "nbformat": 4,
 "nbformat_minor": 2
}
